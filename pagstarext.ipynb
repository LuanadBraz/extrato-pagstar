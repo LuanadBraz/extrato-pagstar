{
 "cells": [
  {
   "cell_type": "code",
   "execution_count": null,
   "id": "496dca65-ba14-4e35-b2c5-627fad25bae7",
   "metadata": {},
   "outputs": [],
   "source": [
    "import streamlit as st\n",
    "import asyncio\n",
    "from datetime import datetime\n",
    "import os\n",
    "from playwright.async_api import async_playwright\n"
   ]
  },
  {
   "cell_type": "code",
   "execution_count": null,
   "id": "3a574c59-7ad9-4ea9-a9a6-32b6f15342ae",
   "metadata": {},
   "outputs": [],
   "source": [
    "async def baixar_extrato(data_inicio, data_fim):\n",
    "    async with async_playwright() as p:\n",
    "        browser = await p.chromium.launch(headless=False)\n",
    "        context = await browser.new_context()\n",
    "        page = await context.new_page()\n",
    "\n",
    "        await page.goto(\"https://finance.pagstar.com/\")\n",
    "        await page.wait_for_timeout(20000)  # Tempo para login manual\n",
    "\n",
    "        await page.get_by_role(\"button\", name=\"Extrato\", exact=True).click()\n",
    "        await page.wait_for_timeout(2000)\n",
    "\n",
    "        await page.get_by_role(\"button\", name=\"Detalhado\", exact=True).click()\n",
    "        await page.wait_for_timeout(2000)\n",
    "\n",
    "        await page.get_by_role(\"button\", name=\"Exportar\", exact=True).click()\n",
    "        await page.wait_for_timeout(2000)\n",
    "\n",
    "        data_inicio_fmt = datetime.strptime(data_inicio, \"%Y-%m-%d\").strftime(\"%Y-%m-%d\")\n",
    "        data_fim_fmt = datetime.strptime(data_fim, \"%Y-%m-%d\").strftime(\"%Y-%m-%d\")\n",
    "\n",
    "        await page.fill('#initialDate', f\"{data_inicio_fmt}T00:00\")\n",
    "        await page.fill('#finalDate', f\"{data_fim_fmt}T23:59\")\n",
    "        await page.wait_for_timeout(1000)\n",
    "\n",
    "        await page.get_by_role(\"button\", name=\"Excel\", exact=True).click()\n",
    "        await page.wait_for_timeout(1000)\n",
    "\n",
    "        with page.expect_download() as download_info:\n",
    "            await page.get_by_role(\"button\", name=\"Baixar Relatório\", exact=True).click()\n",
    "\n",
    "        download = await download_info.value\n",
    "\n",
    "        nome_arquivo = f\"Extrato_Pagstar_{data_inicio_fmt}_a_{data_fim_fmt}.csv\"\n",
    "        caminho = os.path.join(\"downloads\", nome_arquivo)\n",
    "        os.makedirs(\"downloads\", exist_ok=True)\n",
    "        await download.save_as(caminho)\n",
    "\n",
    "        await browser.close()\n",
    "        return caminho\n",
    "\n",
    "# Streamlit interface\n",
    "st.set_page_config(page_title=\"Download Extrato Pagstar\", layout=\"centered\")\n",
    "st.title(\"📄 Download de Extrato - Pagstar\")\n",
    "\n",
    "with st.form(\"form_extrato\"):\n",
    "    col1, col2 = st.columns(2)\n",
    "    with col1:\n",
    "        data_inicio = st.date_input(\"Data de Início\")\n",
    "    with col2:\n",
    "        data_fim = st.date_input(\"Data de Fim\")\n",
    "\n",
    "    submitted = st.form_submit_button(\"🔽 Baixar Extrato\")\n",
    "\n",
    "if submitted:\n",
    "    st.info(\"Aguardando geração do extrato...\")\n",
    "    caminho = asyncio.run(baixar_extrato(str(data_inicio), str(data_fim)))\n",
    "    st.success(\"✅ Extrato gerado com sucesso!\")\n",
    "    with open(caminho, \"rb\") as f:\n",
    "        st.download_button(\"📥 Clique para baixar\", f, file_name=os.path.basename(caminho))\n"
   ]
  }
 ],
 "metadata": {
  "kernelspec": {
   "display_name": "Python [conda env:base] *",
   "language": "python",
   "name": "conda-base-py"
  },
  "language_info": {
   "codemirror_mode": {
    "name": "ipython",
    "version": 3
   },
   "file_extension": ".py",
   "mimetype": "text/x-python",
   "name": "python",
   "nbconvert_exporter": "python",
   "pygments_lexer": "ipython3",
   "version": "3.12.7"
  }
 },
 "nbformat": 4,
 "nbformat_minor": 5
}
